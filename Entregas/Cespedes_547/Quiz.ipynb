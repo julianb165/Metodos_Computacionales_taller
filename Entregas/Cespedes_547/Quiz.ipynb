{
  "nbformat": 4,
  "nbformat_minor": 0,
  "metadata": {
    "colab": {
      "provenance": []
    },
    "kernelspec": {
      "name": "python3",
      "display_name": "Python 3"
    },
    "language_info": {
      "name": "python"
    }
  },
  "cells": [
    {
      "cell_type": "code",
      "execution_count": 150,
      "metadata": {
        "id": "25XfpvjuN9iU"
      },
      "outputs": [],
      "source": [
        "import numpy as np\n",
        "import sympy as sp\n",
        "import scipy.integrate as integrate\n",
        "import matplotlib.pyplot as plt\n"
      ]
    },
    {
      "cell_type": "code",
      "source": [
        "# Variables iniciales\n",
        "T_inf = 300\n",
        "A = 0.00005\n",
        "p = 0.102\n",
        "k = 200\n",
        "T_base = 313\n",
        "h = 20\n",
        "an = 0.05\n",
        "x = np.linspace(0,5,100)"
      ],
      "metadata": {
        "id": "Z-z-Ncc_OWx5"
      },
      "execution_count": 151,
      "outputs": []
    },
    {
      "cell_type": "code",
      "source": [
        "#crear la funcion con la ecuacion.\n",
        "def funcion (T,x_):\n",
        "  return (T[1], (((h*((2*x_)+(2*an)))/(k*A))**2) * T[0] )"
      ],
      "metadata": {
        "id": "BgSpUcfKPZ_z"
      },
      "execution_count": 161,
      "outputs": []
    },
    {
      "cell_type": "code",
      "source": [
        "# Hallar valores de x y v\n",
        "inte = integrate.odeint(funcion,[313,-26*np.sqrt(51)],x)\n",
        "T = inte[0:,0]"
      ],
      "metadata": {
        "colab": {
          "base_uri": "https://localhost:8080/"
        },
        "id": "224uV1ZaP4E-",
        "outputId": "d7144d9f-c92a-41f0-80ea-fbbe36816d58"
      },
      "execution_count": 164,
      "outputs": [
        {
          "output_type": "stream",
          "name": "stderr",
          "text": [
            "/usr/local/lib/python3.7/dist-packages/scipy/integrate/odepack.py:247: ODEintWarning: Excess work done on this call (perhaps wrong Dfun type). Run with full_output = 1 to get quantitative information.\n",
            "  warnings.warn(warning_msg, ODEintWarning)\n"
          ]
        }
      ]
    },
    {
      "cell_type": "code",
      "source": [
        "# Graficar el espacio de configuraciones.\n",
        "plt.plot(x,T)\n",
        "\n",
        "plt.xlabel('\\n Longitud [x]')\n",
        "plt.ylabel('Temperatura [T]')\n",
        "plt.title('Temperatura de la aleta como función de la longitud de la aleta \\n')\n",
        "\n",
        "plt.grid()\n",
        "plt.show()"
      ],
      "metadata": {
        "colab": {
          "base_uri": "https://localhost:8080/",
          "height": 322
        },
        "id": "OLrJl6DQQBA3",
        "outputId": "aafa73f1-ebb5-455c-dde4-c71e892baac4"
      },
      "execution_count": 165,
      "outputs": [
        {
          "output_type": "display_data",
          "data": {
            "text/plain": [
              "<Figure size 432x288 with 1 Axes>"
            ],
            "image/png": "[encoded data removed]"
          },
          "metadata": {
            "needs_background": "light"
          }
        }
      ]
    },
    {
      "cell_type": "code",
      "source": [
        " T_2 = 300 + (13 * np.exp(-x*np.sqrt((h*p)/(k*A))))\n",
        " print(T_2)"
      ],
      "metadata": {
        "colab": {
          "base_uri": "https://localhost:8080/"
        },
        "id": "qshmMqRxbQpX",
        "outputId": "8496814d-a002-462f-b3c5-2e123c7b0511"
      },
      "execution_count": 157,
      "outputs": [
        {
          "output_type": "stream",
          "name": "stdout",
          "text": [
            "[313.         306.3192021  303.07171655 301.49313829 300.72580328\n",
            " 300.35280751 300.17149707 300.08336344 300.04052234 300.0196976\n",
            " 300.00957486 300.00465427 300.0022624  300.00109974 300.00053457\n",
            " 300.00025985 300.00012631 300.0000614  300.00002985 300.00001451\n",
            " 300.00000705 300.00000343 300.00000167 300.00000081 300.00000039\n",
            " 300.00000019 300.00000009 300.00000005 300.00000002 300.00000001\n",
            " 300.00000001 300.         300.         300.         300.\n",
            " 300.         300.         300.         300.         300.\n",
            " 300.         300.         300.         300.         300.\n",
            " 300.         300.         300.         300.         300.\n",
            " 300.         300.         300.         300.         300.\n",
            " 300.         300.         300.         300.         300.\n",
            " 300.         300.         300.         300.         300.\n",
            " 300.         300.         300.         300.         300.\n",
            " 300.         300.         300.         300.         300.\n",
            " 300.         300.         300.         300.         300.\n",
            " 300.         300.         300.         300.         300.\n",
            " 300.         300.         300.         300.         300.\n",
            " 300.         300.         300.         300.         300.\n",
            " 300.         300.         300.         300.         300.        ]\n"
          ]
        }
      ]
    },
    {
      "cell_type": "code",
      "source": [
        "plt.plot(x,T_2)\n",
        "\n",
        "plt.xlabel('\\n Longitud [x]')\n",
        "plt.ylabel('Temperatura [T]')\n",
        "plt.title('Temperatura de la aleta como función de la longitud de la aleta \\n')\n",
        "\n",
        "plt.grid()\n",
        "plt.show()"
      ],
      "metadata": {
        "colab": {
          "base_uri": "https://localhost:8080/",
          "height": 322
        },
        "id": "dpjedMaCfzjs",
        "outputId": "c87cabdf-b2da-477d-81ff-daa300af51eb"
      },
      "execution_count": 158,
      "outputs": [
        {
          "output_type": "display_data",
          "data": {
            "text/plain": [
              "<Figure size 432x288 with 1 Axes>"
            ],
            "image/png": "[encoded data removed]"
          },
          "metadata": {
            "needs_background": "light"
          }
        }
      ]
    }
  ]
}