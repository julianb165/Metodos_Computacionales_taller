{
  "nbformat": 4,
  "nbformat_minor": 0,
  "metadata": {
    "colab": {
      "provenance": []
    },
    "kernelspec": {
      "name": "python3",
      "display_name": "Python 3"
    },
    "language_info": {
      "name": "python"
    }
  },
  "cells": [
    {
      "cell_type": "code",
      "execution_count": 95,
      "metadata": {
        "colab": {
          "base_uri": "https://localhost:8080/"
        },
        "id": "rWVqwKwJUV9B",
        "outputId": "ab25c2ce-0d4e-4bd9-e3eb-4ce2e10ddc10"
      },
      "outputs": [
        {
          "output_type": "stream",
          "name": "stdout",
          "text": [
            "Populating the interactive namespace from numpy and matplotlib\n"
          ]
        },
        {
          "output_type": "stream",
          "name": "stderr",
          "text": [
            "/usr/local/lib/python3.7/dist-packages/IPython/core/magics/pylab.py:160: UserWarning: pylab import has clobbered these variables: ['plt']\n",
            "`%matplotlib` prevents importing * from pylab and numpy\n",
            "  \"\\n`%matplotlib` prevents importing * from pylab and numpy\"\n"
          ]
        }
      ],
      "source": [
        "import numpy as np\n",
        "import scipy.integrate as integrate\n",
        "import matplotlib as plt\n",
        "%pylab inline\n",
        "\n",
        "def dU(U, x,to=300,k=200,A=5e-5,p=0.102,tb=313,h=20): \n",
        "    return [      U[1], \n",
        "             ((h*p)/(k*A))*U[0]]"
      ]
    },
    {
      "cell_type": "code",
      "source": [
        "def T(x,to=300,k=200,A=5e-5,p=0.102,tb=313,h=20):\n",
        "  return to+(tb-to)*np.exp(-x*np.sqrt((h*p/(k*A))))\n",
        "\n",
        "s=np.linspace(0,0.05,20)\n",
        "plt.plot(s,T(s))\n",
        "plt.grid()\n",
        "plt.xlabel(r'Distancia [m]',size=15)\n",
        "plt.ylabel(r'Temperatura [K]',size=15)"
      ],
      "metadata": {
        "colab": {
          "base_uri": "https://localhost:8080/",
          "height": 301
        },
        "id": "5mUEMkNgkLoT",
        "outputId": "37eecf41-bf2c-475e-d6cd-abf99d8a7e71"
      },
      "execution_count": 111,
      "outputs": [
        {
          "output_type": "execute_result",
          "data": {
            "text/plain": [
              "Text(0, 0.5, 'Temperatura [K]')"
            ]
          },
          "metadata": {},
          "execution_count": 111
        },
        {
          "output_type": "display_data",
          "data": {
            "text/plain": [
              "<Figure size 432x288 with 1 Axes>"
            ],
            "image/png": "[encoded data removed]"
          },
          "metadata": {
            "needs_background": "light"
          }
        }
      ]
    },
    {
      "cell_type": "code",
      "source": [
        "l=0.05\n",
        "to=300\n",
        "tb=313\n",
        "s=np.linspace(0,l,20)"
      ],
      "metadata": {
        "id": "3HhzniQJX5dg"
      },
      "execution_count": 96,
      "outputs": []
    },
    {
      "cell_type": "code",
      "source": [
        "U0=[0,tb-to]"
      ],
      "metadata": {
        "id": "nAy0uRQUYAGd"
      },
      "execution_count": 100,
      "outputs": []
    },
    {
      "cell_type": "code",
      "source": [
        "Us=integrate.odeint(dU,U0,s) \n",
        "Us"
      ],
      "metadata": {
        "colab": {
          "base_uri": "https://localhost:8080/"
        },
        "id": "6yGJ0o6UZeaA",
        "outputId": "558a6ff7-f058-4f8f-bd0f-304db682fdf4"
      },
      "execution_count": 103,
      "outputs": [
        {
          "output_type": "execute_result",
          "data": {
            "text/plain": [
              "array([[ 0.        , 13.        ],\n",
              "       [ 0.03421857, 13.00918394],\n",
              "       [ 0.0684855 , 13.03674866],\n",
              "       [ 0.1028492 , 13.08273305],\n",
              "       [ 0.13735821, 13.14720218],\n",
              "       [ 0.17206129, 13.23024711],\n",
              "       [ 0.20700749, 13.33198518],\n",
              "       [ 0.24224617, 13.45256015],\n",
              "       [ 0.27782711, 13.59214234],\n",
              "       [ 0.31380059, 13.75092899],\n",
              "       [ 0.35021746, 13.92914444],\n",
              "       [ 0.38712914, 14.1270405 ],\n",
              "       [ 0.42458781, 14.34489679],\n",
              "       [ 0.46264638, 14.58302111],\n",
              "       [ 0.50135863, 14.84174991],\n",
              "       [ 0.54077925, 15.12144873],\n",
              "       [ 0.58096394, 15.4225128 ],\n",
              "       [ 0.62196948, 15.7453675 ],\n",
              "       [ 0.66385382, 16.09046914],\n",
              "       [ 0.70667612, 16.45830527]])"
            ]
          },
          "metadata": {},
          "execution_count": 103
        }
      ]
    },
    {
      "cell_type": "code",
      "source": [
        "plt.figure(figsize=(7,5))\n",
        "plt.grid()\n",
        "plt.plot(Us[:,0],300-Us[:,1],lw = 1, color = \"black\" )                          \n",
        "plt.xlim(0,0.5)\n",
        "plt.ylim(280,300)\n",
        "plt.xlabel(r'Distancia [m]',size=15)\n",
        "plt.ylabel(r'Temperatura [K]',size=15)"
      ],
      "metadata": {
        "colab": {
          "base_uri": "https://localhost:8080/",
          "height": 360
        },
        "id": "gWkg9IkBZ2Hm",
        "outputId": "ea440ea8-8167-432a-e178-720d41cf6daf"
      },
      "execution_count": 109,
      "outputs": [
        {
          "output_type": "execute_result",
          "data": {
            "text/plain": [
              "Text(0, 0.5, 'Temperatura [K]')"
            ]
          },
          "metadata": {},
          "execution_count": 109
        },
        {
          "output_type": "display_data",
          "data": {
            "text/plain": [
              "<Figure size 504x360 with 1 Axes>"
            ],
            "image/png": "[encoded data removed]"
          },
          "metadata": {
            "needs_background": "light"
          }
        }
      ]
    }
  ]
}