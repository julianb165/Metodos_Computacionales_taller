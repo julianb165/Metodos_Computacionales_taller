{
  "nbformat": 4,
  "nbformat_minor": 0,
  "metadata": {
    "colab": {
      "provenance": []
    },
    "kernelspec": {
      "name": "python3",
      "display_name": "Python 3"
    },
    "language_info": {
      "name": "python"
    }
  },
  "cells": [
    {
      "cell_type": "code",
      "execution_count": 1,
      "metadata": {
        "id": "W47lMGsUNlx8"
      },
      "outputs": [],
      "source": [
        "from scipy.integrate import odeint\n",
        "import matplotlib.pyplot as plt\n",
        "import numpy as np\n",
        "from sympy import *"
      ]
    },
    {
      "cell_type": "code",
      "source": [
        "T1=300\n",
        "Tb=313\n",
        "h=20\n",
        "p=0.102\n",
        "k=200\n",
        "A=0.00005\n",
        "x=0.05\n",
        "Z=(T1+(Tb-T1))*(np.exp(-x*((h*p)/(k*A))))\n",
        "print(f'La temperatura cuando x=5cm es {Z:.7f}K')"
      ],
      "metadata": {
        "colab": {
          "base_uri": "https://localhost:8080/"
        },
        "id": "WSHv8HKrmnfy",
        "outputId": "f3dd3d51-9c28-4913-b371-40dad9d84fb1"
      },
      "execution_count": 27,
      "outputs": [
        {
          "output_type": "stream",
          "name": "stdout",
          "text": [
            "La temperatura cuando x=5cm es 0.0116343K\n"
          ]
        }
      ]
    },
    {
      "cell_type": "code",
      "source": [
        "x=np.linspace(0,10,100)\n",
        "def T(y,x):\n",
        "  T1=300\n",
        "  Tb=313\n",
        "  h=20\n",
        "  p=0.102\n",
        "  k=200\n",
        "  A=0.00005\n",
        "  dr=y[1],(T1+(Tb-T1))*np.exp(-x*((h*p)/(k*A)))\n",
        "  return dr\n",
        "  dr\n",
        "\n",
        "N=1000\n",
        "x0=np.random.uniform(-10,10,N)\n",
        "v0=np.random.uniform(-10, 10,N)\n",
        "\n",
        "t=25\n",
        "\n",
        "for x1, v1 in zip(x0, v0):\n",
        "    t1=np.linspace(0,t,300)\n",
        "    y0=[x1,v1]\n",
        "    y=integrate.odeint(T,y0,t1)\n",
        "    x=y[:,0]\n",
        "    v=y[:,1]\n",
        "    plt.plot(x,v, color = \"blue\",lw = 0.01 )  "
      ],
      "metadata": {
        "id": "Mp4x0CKzQypL"
      },
      "execution_count": 45,
      "outputs": []
    },
    {
      "cell_type": "code",
      "source": [
        "w = T1+((Tb-T1))*np.exp(-x*((h*p)/(k*A)))\n",
        "plt.plot(x,w)\n",
        "plt.xlabel('Longitud m')\n",
        "plt.ylabel('Temperatua K')\n",
        "plt.title('grafico de la temperatura de la aleta como función de la longitud de la aleta')\n",
        "plt.grid()\n",
        "plt.show()"
      ],
      "metadata": {
        "colab": {
          "base_uri": "https://localhost:8080/",
          "height": 295
        },
        "id": "kwaQXAQKoYVE",
        "outputId": "0e61bc1c-8c66-42dc-8b8e-816a089b75c7"
      },
      "execution_count": 47,
      "outputs": [
        {
          "output_type": "display_data",
          "data": {
            "text/plain": [
              "<Figure size 432x288 with 1 Axes>"
            ],
            "image/png": "[encoded data removed]"
          },
          "metadata": {
            "needs_background": "light"
          }
        }
      ]
    },
    {
      "cell_type": "code",
      "source": [
        "def T1(a,T1,Tb,h,p,k,A,theta):\n",
        "  a=(h*p)/(k*A)\n",
        "  theta=T1-Tb\n",
        "  dr1=(a**2)*(theta)\n",
        "  return dr1\n"
      ],
      "metadata": {
        "id": "cxFUu6WSbgwC"
      },
      "execution_count": 21,
      "outputs": []
    }
  ]
}