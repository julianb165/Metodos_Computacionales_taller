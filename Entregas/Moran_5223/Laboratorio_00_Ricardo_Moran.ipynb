{
  "nbformat": 4,
  "nbformat_minor": 0,
  "metadata": {
    "colab": {
      "name": "Laboratorio_00_Ricardo_Moran.ipynb",
      "provenance": [],
      "collapsed_sections": []
    },
    "kernelspec": {
      "name": "python3",
      "display_name": "Python 3"
    },
    "language_info": {
      "name": "python"
    }
  },
  "cells": [
    {
      "cell_type": "code",
      "execution_count": null,
      "metadata": {
        "id": "y_YQOHTeBdvt"
      },
      "outputs": [],
      "source": [
        "import numpy as np\n",
        "import math as mt\n",
        "import matplotlib.pylab as plt"
      ]
    },
    {
      "cell_type": "markdown",
      "source": [
        "Factorial de un número"
      ],
      "metadata": {
        "id": "pi-NyA2p846N"
      }
    },
    {
      "cell_type": "code",
      "source": [
        "N=int(input(\"Número: \"))\n",
        "result=mt.factorial(N)\n",
        "print(f\"factorial de: \", result)"
      ],
      "metadata": {
        "colab": {
          "base_uri": "https://localhost:8080/"
        },
        "id": "TOH1g0XvLNBH",
        "outputId": "c05d8e68-f515-4ec1-b19d-d62f8a80a699"
      },
      "execution_count": null,
      "outputs": [
        {
          "output_type": "stream",
          "name": "stdout",
          "text": [
            "Número: 3\n",
            "factorial de:  6\n"
          ]
        }
      ]
    },
    {
      "cell_type": "code",
      "source": [
        "N=int(input(\"Número: \"))\n",
        "n=N\n",
        "if N==0:\n",
        "  print(\"Factorial: 1\")\n",
        "elif n<0:\n",
        "    print(\"No es posible calcularlo\")\n",
        "else:\n",
        "  for k in range(1, N-1):\n",
        "      n=n*(N-k)\n",
        "  print(\"Factorial:\", n)"
      ],
      "metadata": {
        "colab": {
          "base_uri": "https://localhost:8080/"
        },
        "id": "xcnhOdURK2qR",
        "outputId": "3deb2058-f2e2-4445-9538-8067aa95f435"
      },
      "execution_count": null,
      "outputs": [
        {
          "output_type": "stream",
          "name": "stdout",
          "text": [
            "Número: 3\n",
            "Factorial: 6\n"
          ]
        }
      ]
    },
    {
      "cell_type": "code",
      "source": [
        "def factorial (N):\n",
        "  \"\"\"\n",
        "  Calcula el factorial de un número\n",
        "  Inputs:\n",
        "    N: Variable tipo entero\n",
        "  Returns:\n",
        "    Factorial de un número, float\n",
        "  \"\"\"\n",
        "  N=int(input(\"Número: \"))\n",
        "  \n",
        "  n=N\n",
        "  \n",
        "  if(N==0):\n",
        "    n=1\n",
        "    return n\n",
        "  elif (N<0):\n",
        "    return print(\"Error! El número debe ser mayor a cero\")\n",
        "  \n",
        "  else:\n",
        "    for k in range(1, N-1):\n",
        "      n=n*(N-k)\n",
        "    return n\n",
        "factorial (N)"
      ],
      "metadata": {
        "colab": {
          "base_uri": "https://localhost:8080/"
        },
        "id": "8lkxUHXuMLLs",
        "outputId": "7154b80f-1fb9-4336-ad1f-a3f88d09d28e"
      },
      "execution_count": null,
      "outputs": [
        {
          "name": "stdout",
          "output_type": "stream",
          "text": [
            "Número: 3\n"
          ]
        },
        {
          "output_type": "execute_result",
          "data": {
            "text/plain": [
              "6"
            ]
          },
          "metadata": {},
          "execution_count": 40
        }
      ]
    },
    {
      "cell_type": "markdown",
      "source": [
        "Números defectivos"
      ],
      "metadata": {
        "id": "_IMGNGBDViB5"
      }
    },
    {
      "cell_type": "code",
      "source": [
        "num=int(input(\"Ingrese un número: \"))\n",
        "\n",
        "i=1\n",
        "sum=0\n",
        "\n",
        "while(i<num):\n",
        "    if num%i==0:\n",
        "      sum=sum+i\n",
        "    i=i+1\n",
        "if num>sum:\n",
        "    print(\"Defectivo\")\n",
        "else:\n",
        "    print(\"No es defectivo\")\n",
        "\n",
        "\n",
        "      \n",
        "      \n",
        "       \n",
        "    "
      ],
      "metadata": {
        "colab": {
          "base_uri": "https://localhost:8080/"
        },
        "id": "kaSzjpc1VoWE",
        "outputId": "96ef7fae-a6d7-4b54-e833-99c5388e3cab"
      },
      "execution_count": null,
      "outputs": [
        {
          "output_type": "stream",
          "name": "stdout",
          "text": [
            "Ingrese un número: 12\n",
            "No es defectivo\n"
          ]
        }
      ]
    },
    {
      "cell_type": "markdown",
      "source": [
        "Número abundante"
      ],
      "metadata": {
        "id": "u3-Inb25ihrj"
      }
    },
    {
      "cell_type": "code",
      "source": [
        "num_ab=int(input(\"Ingrese un número: \"))\n",
        "\n",
        "i=1\n",
        "sum=0\n",
        "\n",
        "while (i<=num_ab):\n",
        "  if num_ab%i==0:\n",
        "    sum=sum+i\n",
        "  i=i+1\n",
        "if sum>2*num_ab:\n",
        "  print(num_ab, \"es un número abundante\")\n",
        "  print(\"Su abundancia es:\", sum-2*num_ab)\n",
        "else:\n",
        "  print(num_ab, \"No es un número abundante\")\n",
        "  \n"
      ],
      "metadata": {
        "colab": {
          "base_uri": "https://localhost:8080/"
        },
        "id": "pFmh6Gn1iqyi",
        "outputId": "e5569e62-e1e0-4e2f-be6c-342f1d80c321"
      },
      "execution_count": null,
      "outputs": [
        {
          "output_type": "stream",
          "name": "stdout",
          "text": [
            "Ingrese un número: 24\n",
            "24 es un número abundante\n",
            "Su abundancia es: 12\n"
          ]
        }
      ]
    },
    {
      "cell_type": "markdown",
      "source": [
        "Número amigos"
      ],
      "metadata": {
        "id": "hHO0DKZYrSFo"
      }
    },
    {
      "cell_type": "code",
      "source": [
        "num_a=int(input(\"Ingrese un número A: \"))\n",
        "num_b=int(input(\"Ingrese un número B: \"))\n",
        "\n",
        "sum_a=0\n",
        "\n",
        "i=1\n",
        "\n",
        "\n",
        "while i<num_a:\n",
        "  if num_a%i==0:\n",
        "    sum_a=sum_a+i\n",
        "  i=i+1\n",
        "  \n",
        "if sum_a==num_b:\n",
        "  print(num_a, \"es amigo de\", num_b)\n",
        "else:\n",
        "  print(num_a, \"y\", num_b, \"no son amigos\")\n"
      ],
      "metadata": {
        "colab": {
          "base_uri": "https://localhost:8080/"
        },
        "id": "BrPz7-AQrUY5",
        "outputId": "fa9d1169-a4fc-4e33-c931-70a8a61cc62b"
      },
      "execution_count": null,
      "outputs": [
        {
          "output_type": "stream",
          "name": "stdout",
          "text": [
            "Ingrese un número A: 220\n",
            "Ingrese un número B: 284\n",
            "220 es amigo de 284\n"
          ]
        }
      ]
    },
    {
      "cell_type": "markdown",
      "source": [
        "Numeros semiperfectos"
      ],
      "metadata": {
        "id": "4Hf0gA18-TPo"
      }
    },
    {
      "cell_type": "code",
      "source": [
        "num_s=int(input(\"Ingrese un número: \"))\n",
        "\n",
        "sum_s=0\n",
        "k=1\n",
        "\n",
        "while k<num_s:\n",
        "  if num_s%k==0:\n",
        "    sum_s=sum_s+k\n",
        "  k=k+1\n",
        "\n",
        "if k<sum_s:\n",
        "  print(num_s, \"es un número semiperfecto\")\n",
        "else:\n",
        "  print(num_s, \"no es semiperfecto\")\n",
        "  "
      ],
      "metadata": {
        "colab": {
          "base_uri": "https://localhost:8080/"
        },
        "id": "gDzUE3vH-l0u",
        "outputId": "bb7fe9a3-de9e-4955-ae47-0e63895f2523"
      },
      "execution_count": null,
      "outputs": [
        {
          "output_type": "stream",
          "name": "stdout",
          "text": [
            "Ingrese un número: 143\n",
            "143 no es semiperfecto\n"
          ]
        }
      ]
    },
    {
      "cell_type": "markdown",
      "source": [
        "Números perfectos"
      ],
      "metadata": {
        "id": "Voxd1K0rANxH"
      }
    },
    {
      "cell_type": "code",
      "source": [
        "num_p=int(input(\"Ingrese un número: \"))\n",
        "\n",
        "sum_p=0\n",
        "h=1\n",
        "\n",
        "while h<num_p:\n",
        "  if num_p%h==0:\n",
        "    sum_p=sum_p+h\n",
        "  h=h+1\n",
        "\n",
        "if num_p==sum_p:\n",
        "  print(num_p, \"es un número perfecto\")\n",
        "else:\n",
        "  print(num_p, \"no es perfecto\")"
      ],
      "metadata": {
        "colab": {
          "base_uri": "https://localhost:8080/"
        },
        "id": "kPzFhfAxARtZ",
        "outputId": "2ae0b8ad-2cf9-4fdf-8fdf-77c54deab8ff"
      },
      "execution_count": null,
      "outputs": [
        {
          "output_type": "stream",
          "name": "stdout",
          "text": [
            "Ingrese un número: 495\n",
            "495 no es perfecto\n"
          ]
        }
      ]
    },
    {
      "cell_type": "markdown",
      "source": [
        "Números primos"
      ],
      "metadata": {
        "id": "F9Ow1Gk5BnuC"
      }
    },
    {
      "cell_type": "code",
      "source": [
        "n=int(input(\"Ingrese un numero: \"))\n",
        "\n",
        "div = 0\n",
        "i=1\n",
        "while i<=n:\n",
        "    \n",
        "  if n%i == 0:\n",
        "        div = div + i\n",
        "  i=i+1\n",
        "if div == n + 1:                            \n",
        "    print (n, \" es un numero primo\")\n",
        "else:\n",
        "  print (n, \" no es un numero primo\")\n",
        "\n"
      ],
      "metadata": {
        "colab": {
          "base_uri": "https://localhost:8080/"
        },
        "id": "GaKhqSjtBx4T",
        "outputId": "3e97f9a7-80dd-46ad-9c1a-d4dc6a0bc492"
      },
      "execution_count": 29,
      "outputs": [
        {
          "output_type": "stream",
          "name": "stdout",
          "text": [
            "Ingrese un numero: 22\n",
            "22  no es un numero primo\n"
          ]
        }
      ]
    },
    {
      "cell_type": "markdown",
      "source": [
        "Ordenar de forma ascendete un arreglo de número que se ingrese"
      ],
      "metadata": {
        "id": "p4Y6rjYm9z2a"
      }
    },
    {
      "cell_type": "code",
      "source": [
        "l = [23,8,3,4,1352,92,19,11,29,48,48,1,69,5]"
      ],
      "metadata": {
        "id": "rwfwwe5299Ks"
      },
      "execution_count": 32,
      "outputs": []
    },
    {
      "cell_type": "code",
      "source": [
        "def orden(lista):\n",
        "\n",
        "  for i in range(0,len(lista)):\n",
        "    for j in range(0,len(lista)):\n",
        "      if int(lista[i]) < int(lista[j]):\n",
        "        lista[j], lista[i] = lista[i],lista[j]\n",
        "  print(lista)\n",
        "orden(l)"
      ],
      "metadata": {
        "colab": {
          "base_uri": "https://localhost:8080/"
        },
        "id": "jBgn9lCY-A1r",
        "outputId": "ac6352da-0756-4ba2-91f0-e4a0886e3eca"
      },
      "execution_count": 33,
      "outputs": [
        {
          "output_type": "stream",
          "name": "stdout",
          "text": [
            "[1, 3, 4, 5, 8, 11, 19, 23, 29, 48, 48, 69, 92, 1352]\n"
          ]
        }
      ]
    },
    {
      "cell_type": "markdown",
      "source": [
        "Calcular el n-ésimo término de fibonacci "
      ],
      "metadata": {
        "id": "aPE53LeP-dQQ"
      }
    },
    {
      "cell_type": "code",
      "source": [
        "def fibonacci(n):\n",
        "  f0=0\n",
        "  f1=1\n",
        "  i=1 \n",
        "  lista = [f0,f1]\n",
        "  while i < n: \n",
        "    suma = 0\n",
        "    suma += lista[i-1] + lista[i]\n",
        "    lista.append(suma)\n",
        "    i += 1\n",
        "  result = lista[-1]\n",
        "  return(result)\n",
        "\n",
        "fibonacci(20)"
      ],
      "metadata": {
        "colab": {
          "base_uri": "https://localhost:8080/"
        },
        "id": "_xhKUM9x-nGO",
        "outputId": "627b9f2b-f676-4dc7-b3ee-940f382ab68a"
      },
      "execution_count": 39,
      "outputs": [
        {
          "output_type": "execute_result",
          "data": {
            "text/plain": [
              "6765"
            ]
          },
          "metadata": {},
          "execution_count": 39
        }
      ]
    },
    {
      "cell_type": "markdown",
      "source": [
        "Entregar una lista donde se retorne: en la primera casilla: True si el caracter del medio es una vocal, False en caso contrario en la segunda: el numero de vocales en la cadena en la tercera: el numero de consonantes en la ultima: la cadena de caracteres invertida"
      ],
      "metadata": {
        "id": "CRqOX6DPAZh4"
      }
    },
    {
      "cell_type": "code",
      "source": [
        "def cadena(palabra):\n",
        "    \n",
        "    voc = ['a','e','i','o','u']\n",
        "    con = ['b','c','d','f','g','h','j','k','l','m','n','p','q','r','s','t','u','v']\n",
        "    if len(palabra)%2 == 0:         #consideré que si el número de letras es par \"no existe\" una casilla en el medio, por lo tanto retorna un False\n",
        "        r2 = False\n",
        "    elif len(palabra)%2 != 0:\n",
        "        vacia=0\n",
        "        for i in voc:\n",
        "            if palabra[len(palabra)//2] == i:\n",
        "                vacia = vacia + 1\n",
        "        if vacia == 1:\n",
        "            r2 = True\n",
        "        elif vacia == 0:\n",
        "            r2 = False\n",
        "    sumav=0\n",
        "    for i in palabra:\n",
        "        for j in voc:\n",
        "            if i==j:\n",
        "                sumav = sumav + 1\n",
        "    sumac = 0\n",
        "    for i in palabra:\n",
        "        for j in con:\n",
        "            if i == j:\n",
        "                sumac = sumac + 1\n",
        "    listpal=[]\n",
        "    for i in palabra:\n",
        "        listpal.append(i)\n",
        "    listinv = listpal[::-1]\n",
        "    palabrainversa=''\n",
        "    for i in listinv:\n",
        "        palabrainversa = palabrainversa + i\n",
        "        \n",
        "    return(r2, sumav, sumac,palabrainversa)\n",
        "\n",
        "\n",
        "cadena('ahora')"
      ],
      "metadata": {
        "colab": {
          "base_uri": "https://localhost:8080/"
        },
        "id": "3timvx21AEad",
        "outputId": "35fcd183-ab85-4023-cfab-c60ef9e24452"
      },
      "execution_count": 40,
      "outputs": [
        {
          "output_type": "execute_result",
          "data": {
            "text/plain": [
              "(True, 3, 2, 'aroha')"
            ]
          },
          "metadata": {},
          "execution_count": 40
        }
      ]
    }
  ]
}