{
  "nbformat": 4,
  "nbformat_minor": 0,
  "metadata": {
    "colab": {
      "name": "Laboratorio_03_Epsilon_maquina_y_errores.ipynb",
      "provenance": [],
      "collapsed_sections": []
    },
    "kernelspec": {
      "name": "python3",
      "display_name": "Python 3"
    },
    "language_info": {
      "name": "python"
    }
  },
  "cells": [
    {
      "cell_type": "code",
      "source": [
        "import numpy as np\n",
        "import math as ma\n",
        "import matplotlib.pyplot as plt\n"
      ],
      "metadata": {
        "id": "m9NznH57XNcI"
      },
      "execution_count": null,
      "outputs": []
    },
    {
      "cell_type": "markdown",
      "source": [
        "\n",
        "#1. Escriba un programa para calcular \\begin{equation}\n",
        "e^{-x} = \\sum_{n=0}^N \\frac{(-1)^n x^n}{n!}\n",
        "\\end{equation}"
      ],
      "metadata": {
        "id": "OYZn3WG5Vrsa"
      }
    },
    {
      "cell_type": "code",
      "source": [
        "\n",
        "def exp_(x,N):\n",
        "  e = 0\n",
        "  \n",
        "\n",
        "  for n in range (0,N):\n",
        "    e = e + ((-1)**n)*((x)**n)/ma.factorial(n)\n",
        "  return e\n",
        "print(\"Resultado de la función exponencial calculada\",  exp_(1,10), sep=\"\\t\\t\")\n",
        "print(\"Resultado de la función exponencial del módulo math\", e, sep=\"\\t\")\n"
      ],
      "metadata": {
        "id": "aItH-O4mbKdW",
        "colab": {
          "base_uri": "https://localhost:8080/"
        },
        "outputId": "4532e4e5-b16a-4b49-a0be-9d656429539e"
      },
      "execution_count": null,
      "outputs": [
        {
          "output_type": "stream",
          "name": "stdout",
          "text": [
            "Resultado de la función exponencial calculada\t\t0.3678791887125221\n",
            "Resultado de la función exponencial del módulo math\t0.3678791887125221\n"
          ]
        }
      ]
    },
    {
      "cell_type": "markdown",
      "source": [
        "#2. Programa usando\n",
        "\\begin{equation}\n",
        "e^{-x} =  \\frac{1}{e^x}\n",
        "\\end{equation}"
      ],
      "metadata": {
        "id": "XrQoJ2GQH5bh"
      }
    },
    {
      "cell_type": "code",
      "source": [
        "def exp_s(x,N):\n",
        "  \n",
        "  e = 0\n",
        "  \n",
        "  for n in range (0,N):\n",
        "    e = e + ((x)**n)/ma.factorial(n)\n",
        "  return 1/e\n",
        "print(\"Resultado de la fucnión exponencial 1/e calculada:\",  exp_s(1,10), sep=\"\\t\")\n",
        "print(\"Resultado de la función exponencial del módulo numpy\", np.exp(-1), sep=\"\\t\")\n"
      ],
      "metadata": {
        "id": "OyGlYtOjg1Yr",
        "colab": {
          "base_uri": "https://localhost:8080/"
        },
        "outputId": "b80148f0-2c25-4c97-ac9f-123c751f4566"
      },
      "execution_count": null,
      "outputs": [
        {
          "output_type": "stream",
          "name": "stdout",
          "text": [
            "Resultado de la fucnión exponencial 1/e calculada:\t0.3678794821625896\n",
            "Resultado de la función exponencial del módulo numpy\t0.36787944117144233\n"
          ]
        }
      ]
    },
    {
      "cell_type": "markdown",
      "source": [
        "#3. Gráficas"
      ],
      "metadata": {
        "id": "FqLw0NttLLIQ"
      }
    },
    {
      "cell_type": "code",
      "source": [
        "x=10\n",
        "N=np.arange(1,25,1)\n",
        "F=np.zeros(len(N))\n",
        "G=np.zeros(len(N))\n",
        "D=np.zeros(len(N))\n",
        "Error_F=np.zeros(len(N))\n",
        "Error_F=np.zeros(len(N))\n",
        "\n",
        "for i, n in enumerate(N):\n",
        "  F[i]=exp_(x,n)\n",
        "  G[i]=exp_s(x,n)\n",
        "  D[i]=ma.exp(-n)\n",
        "  Error_F[i]=np.abs(D[i]-F[i])\n",
        "  Error_F[i]=np.abs(D[i]-G[i])\n"
      ],
      "metadata": {
        "id": "66rs6kfVh5Gx"
      },
      "execution_count": null,
      "outputs": []
    },
    {
      "cell_type": "markdown",
      "source": [
        "#Grafica del error de \\begin{equation}\n",
        "e^{-x} = \\sum_{n=0}^N \\frac{(-1)^n x^n}{n!}\n",
        "\\end{equation} \n",
        "#Vs. N"
      ],
      "metadata": {
        "id": "yQ58WyJyPVzG"
      }
    },
    {
      "cell_type": "code",
      "source": [
        "plt.plot(N,F, color='green')\n",
        "plt.plot(N,G, color='blue')\n",
        "plt.grid()\n",
        "\n",
        "\n",
        "\n",
        "plt.xlabel(\"N\")\n",
        "plt.ylabel(\"f\")"
      ],
      "metadata": {
        "colab": {
          "base_uri": "https://localhost:8080/",
          "height": 296
        },
        "id": "7QKqiXaKjG-2",
        "outputId": "f017238f-0299-4881-e925-830b2949d024"
      },
      "execution_count": null,
      "outputs": [
        {
          "output_type": "execute_result",
          "data": {
            "text/plain": [
              "Text(0, 0.5, 'f')"
            ]
          },
          "metadata": {},
          "execution_count": 240
        },
        {
          "output_type": "display_data",
          "data": {
            "text/plain": [
              "<Figure size 432x288 with 1 Axes>"
            ],
            "image/png": "[encoded data removed]"
          },
          "metadata": {
            "needs_background": "light"
          }
        }
      ]
    },
    {
      "cell_type": "markdown",
      "source": [
        "#Grafica del error de \n",
        "\\begin{equation}\n",
        "e^{-x} =  \\frac{1}{e^x}\n",
        "\\end{equation}\n",
        "#Vs. N"
      ],
      "metadata": {
        "id": "Q7PiOEgtXY4M"
      }
    },
    {
      "cell_type": "code",
      "source": [
        "plt.plot(N, G, color='orange')\n",
        "plt.plot(N, D, color='blue')\n",
        "\n",
        "plt.grid()\n",
        "plt.xlabel(\"N\")\n",
        "plt.ylabel(\"f\")"
      ],
      "metadata": {
        "colab": {
          "base_uri": "https://localhost:8080/",
          "height": 296
        },
        "id": "YZBO13CsSaIr",
        "outputId": "d71f86d9-09e2-4570-a0e3-bd639d1f1cbc"
      },
      "execution_count": null,
      "outputs": [
        {
          "output_type": "execute_result",
          "data": {
            "text/plain": [
              "Text(0, 0.5, 'f')"
            ]
          },
          "metadata": {},
          "execution_count": 241
        },
        {
          "output_type": "display_data",
          "data": {
            "text/plain": [
              "<Figure size 432x288 with 1 Axes>"
            ],
            "image/png": "[encoded data removed]"
          },
          "metadata": {
            "needs_background": "light"
          }
        }
      ]
    },
    {
      "cell_type": "markdown",
      "source": [
        "#Grafica del error absoluto de \\begin{equation}\n",
        "e^{-x} = \\sum_{n=0}^N \\frac{(-1)^n x^n}{n!}\n",
        "\\end{equation} \n",
        "#Vs. N"
      ],
      "metadata": {
        "id": "I8mHcpw3p6qI"
      }
    },
    {
      "cell_type": "code",
      "source": [
        "x = []\n",
        "N = np.arange(1,10,1)\n",
        "F = np.zeros(len(N))\n",
        "G = np.zeros(len(N))\n",
        "D = np.zeros(len(N))\n",
        "Error_F = np.zeros(len(N))\n",
        "Error_G = np.zeros(len(N))\n",
        "for m in range (0, len(N)):\n",
        "  m+=1\n",
        "  x.append(m)\n",
        "\n",
        "for i, n in enumerate(N):\n",
        "  F[i] = exp_(x[i],n)\n",
        "  G[i] = exp_s(x[i],n)\n",
        "  D[i] = ma.exp(-n)\n",
        "  Error_F[i] = abs(D[i] - F[i])\n",
        "  Error_G[i] = abs(D[i] - G[i])"
      ],
      "metadata": {
        "id": "hlne8SiyX8Hv"
      },
      "execution_count": null,
      "outputs": []
    },
    {
      "cell_type": "code",
      "source": [
        "plt.plot(x, D, color='black')\n",
        "plt.plot(x, F, color='red')\n",
        "plt.plot(x, Error_F, color='skyblue')\n",
        "\n",
        "plt.grid()\n",
        "plt.xlabel(\"x\")\n",
        "plt.ylabel(\"error\")"
      ],
      "metadata": {
        "colab": {
          "base_uri": "https://localhost:8080/",
          "height": 296
        },
        "id": "2h5Y4DaJlrso",
        "outputId": "7eab0991-15f8-45b7-d77d-cf0b96f2c0fd"
      },
      "execution_count": null,
      "outputs": [
        {
          "output_type": "execute_result",
          "data": {
            "text/plain": [
              "Text(0, 0.5, 'error')"
            ]
          },
          "metadata": {},
          "execution_count": 247
        },
        {
          "output_type": "display_data",
          "data": {
            "text/plain": [
              "<Figure size 432x288 with 1 Axes>"
            ],
            "image/png": "[encoded data removed]"
          },
          "metadata": {
            "needs_background": "light"
          }
        }
      ]
    },
    {
      "cell_type": "markdown",
      "source": [
        "#Grafica de la desviación entre el error, N y \n",
        "\\begin{equation}\n",
        "e^{-x} =  \\frac{1}{e^x}\n",
        "\\end{equation}\n"
      ],
      "metadata": {
        "id": "IINjtG07q53z"
      }
    },
    {
      "cell_type": "code",
      "source": [
        "plt.plot(x, D, color='orange')\n",
        "plt.plot(x, G, color='darkblue')\n",
        "plt.plot(x, Error_G, color='red')\n",
        "\n",
        "plt.grid()\n",
        "plt.xlabel(\"x\")\n",
        "plt.ylabel(\"error\")"
      ],
      "metadata": {
        "colab": {
          "base_uri": "https://localhost:8080/",
          "height": 296
        },
        "id": "GFasi594YLkw",
        "outputId": "ae2a468d-1d8d-427a-f3eb-07411369c3bf"
      },
      "execution_count": null,
      "outputs": [
        {
          "output_type": "execute_result",
          "data": {
            "text/plain": [
              "Text(0, 0.5, 'error')"
            ]
          },
          "metadata": {},
          "execution_count": 244
        },
        {
          "output_type": "display_data",
          "data": {
            "text/plain": [
              "<Figure size 432x288 with 1 Axes>"
            ],
            "image/png": "[encoded data removed]"
          },
          "metadata": {
            "needs_background": "light"
          }
        }
      ]
    }
  ]
}