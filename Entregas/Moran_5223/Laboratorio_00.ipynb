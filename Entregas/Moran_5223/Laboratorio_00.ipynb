{
  "nbformat": 4,
  "nbformat_minor": 0,
  "metadata": {
    "colab": {
      "name": "Laboratorio_00.ipynb",
      "provenance": [],
      "collapsed_sections": []
    },
    "kernelspec": {
      "name": "python3",
      "display_name": "Python 3"
    },
    "language_info": {
      "name": "python"
    }
  },
  "cells": [
    {
      "cell_type": "code",
      "execution_count": 25,
      "metadata": {
        "id": "y_YQOHTeBdvt"
      },
      "outputs": [],
      "source": [
        "import numpy as np\n",
        "import math as mt\n",
        "import matplotlib.pylab as plt"
      ]
    },
    {
      "cell_type": "code",
      "source": [
        ""
      ],
      "metadata": {
        "id": "BSLd-XdlOmUK"
      },
      "execution_count": null,
      "outputs": []
    },
    {
      "cell_type": "code",
      "source": [
        "N=5\n",
        "result=mt.factorial(N)\n",
        "print(f\"factorial de: \")"
      ],
      "metadata": {
        "colab": {
          "base_uri": "https://localhost:8080/"
        },
        "id": "TOH1g0XvLNBH",
        "outputId": "b2d77a16-e631-46db-93a5-78cd8e912148"
      },
      "execution_count": 24,
      "outputs": [
        {
          "output_type": "stream",
          "name": "stdout",
          "text": [
            "factorial de: \n"
          ]
        }
      ]
    },
    {
      "cell_type": "code",
      "source": [
        "N=10\n",
        "n=N\n",
        "for k in range(1, N-1):\n",
        "  n=n*(N-k)\n",
        "print(n)"
      ],
      "metadata": {
        "colab": {
          "base_uri": "https://localhost:8080/"
        },
        "id": "xcnhOdURK2qR",
        "outputId": "4864de96-ca91-46f1-ed1c-70c5bfc4123c"
      },
      "execution_count": 23,
      "outputs": [
        {
          "output_type": "stream",
          "name": "stdout",
          "text": [
            "3628800\n"
          ]
        }
      ]
    },
    {
      "cell_type": "code",
      "source": [
        "def factorial(N):\n",
        "  \"\"\"\n",
        "  Calcula el factorial de un número\n",
        "  Inputs:\n",
        "    N: Variable tipo entero\n",
        "  Returns:\n",
        "    Factorial de un número, float\n",
        "  \"\"\"\n",
        "  n=N\n",
        "  \n",
        "  if(N==0):\n",
        "    n=1\n",
        "    return N\n",
        "  elif (N<0):\n",
        "    return print(\"Error! El número debe ser mayor a cero\")\n",
        "  \n",
        "  else:\n",
        "    for k in range(1, N-1):\n",
        "      n=n*(N-k)\n",
        "      return n\n",
        "      print(n)"
      ],
      "metadata": {
        "id": "8lkxUHXuMLLs"
      },
      "execution_count": 22,
      "outputs": []
    }
  ]
}