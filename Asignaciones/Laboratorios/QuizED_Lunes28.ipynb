{
  "nbformat": 4,
  "nbformat_minor": 0,
  "metadata": {
    "colab": {
      "provenance": []
    },
    "kernelspec": {
      "name": "python3",
      "display_name": "Python 3"
    },
    "language_info": {
      "name": "python"
    }
  },
  "cells": [
    {
      "cell_type": "markdown",
      "source": [
        "Quiz de Metodos Computacionales. Ecuaciones diferenciales\n",
        "\n",
        "\n",
        "\n",
        "Las aletas son sólidos que transfieren calor por conducción a lo largo de su geometría y por convección a través de su entorno. La ecuación diferencial que describe la temperatura como función de  la longitud de una  aleta viene dada por :\n",
        "\n",
        "\n",
        "\\begin{equation}\n",
        "\\frac{d^2(T-T_{\\infty})}{dx^2} - \\left( \\frac{hp}{kAc} \\right ) ^2 (T-T_{\\infty})=0\n",
        "\\end{equation}\n",
        "\n",
        "donde Ac es el  área de la sección transversal Ac, p es perímetro,\n",
        "k es el coficiente de conducción que depende de cada material y h el coficiente de convección. La temperatura  $T_{\\infty}$ es la temperatura ambiente.\n",
        "\n",
        "\n",
        "![aleta](https://github.com/hernansalinas/Metodos_Computacionales_taller/blob/main/Asignaciones/Laboratorios/img/aleta.png?raw=true)\n",
        "\n",
        "\n",
        "\n",
        "En general, el área de la sección transversal A y el perímetro p de una aleta\n",
        "varían con x, lo cual hace que esta ecuación diferencial sea difícil de resolver. En el caso especial de una sección transversal constante y conductividad térmica constante, la ecuación diferencial se reduce a\n",
        "\n",
        "\\begin{equation}\n",
        "\\frac{d^2 \\theta}{dx^2} - a ^2 \\theta=0\n",
        "\\end{equation}\n",
        "\n",
        "\n",
        "donde  $\\theta=T-T_{\\infty}$ y $a=\\frac{hp}{kAc}$\n",
        "\n",
        "\n",
        "Para una aleta suficientemente larga de sección transversal uniforme (Ac =\n",
        "constante), la temperatura en la base de la aleta viene dada por:\n",
        "\n",
        "\n",
        "\\begin{equation}\n",
        "\\theta(0)=\\theta_b=T_b-T_{\\infty}\n",
        "\\end{equation}\n",
        "\n",
        "\n",
        " y en la punta de la aleta, tenderá a la del medio, por consiguiente $\\theta$ tenderá a cero. \n",
        "\n",
        "\\begin{equation}\n",
        "\\theta(L)=T(L)-T_{\\infty}=0\n",
        "\\end{equation}\n",
        "\n",
        "La solucion  exacta viene dada por :\n",
        "\n",
        "\\begin{equation}\n",
        "T(x)=T_{\\infty}+(T_b-T_{\\infty})e^{-x\\sqrt{hp/kAc}}\n",
        "\\end{equation}\n",
        "\n",
        "\n",
        "\n",
        "Considerando  una aleta rectangular muy larga, fijada a una\n",
        "superficie plana de tal forma que la temperatura en el extremo\n",
        "de la aleta es prácticamente la del aire circundante, es decir,\n",
        "$T_{\\infty}=300K$. Asuma que el ancho es de 5.0 cm, el espesor de 1 mm, es decir, su area $A=5\\times 10^{-5}m^2$ y su perimetro de $p=0.102m$. La  conductividad térmica es $k=200 W/m K$, la temperatura en la base de $T_b=313K$ y el coeficiente de transferencia de calor es de $h=20 W/m^2K$. Calcule:\n",
        "\n",
        "- La solcuión numerica de la ecuacion diferencial y construya un Un grafico de  la temperatura de la aleta como función de la longitud de la aleta \n",
        "- Compare la solucion numérica con la analítica\n",
        "\n",
        "- Determine su temperatura para una distancia x= 5.0 cm. \n",
        "\n",
        "\n",
        "\n",
        "\n",
        "\n",
        "Referencias: Ejercicio e imagenes tomado y adaptado de:\n",
        "\n",
        "Cengel, Y. A. (2016). “Transferencia de calor y masa” McGRAW-HILL/INTERAMERICANA EDITORES, S.A. DE C.V. 3ra. Edición\n",
        "\n"
      ],
      "metadata": {
        "id": "ZJKDD4sdpzP7"
      }
    },
    {
      "cell_type": "code",
      "source": [],
      "metadata": {
        "id": "AkOvTEXo1X8i"
      },
      "execution_count": null,
      "outputs": []
    }
  ]
}